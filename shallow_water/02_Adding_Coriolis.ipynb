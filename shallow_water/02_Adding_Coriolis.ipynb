{
 "cells": [
  {
   "cell_type": "markdown",
   "metadata": {},
   "source": [
    "# Shallow Water Equations - With Coriolis\n",
    "\n",
    "Our model before made a few assumptions (in addition to linearity): no rotation, no shear, and no friction. This gave a simplified version of the shallow water equations. Now, let's relax the irrotational assumption. That is, we will now assume we have a shallow water system sitting somewhere on the rotating Earth. We can of course consider rotations on other planets, but let's focus on our own for now. \n",
    "\n",
    "The Coriolis motion will deflect motion to the right in the northern hemisphere, and to the left in the southern hemisphere, by a rate proportional to its velocity. So our tendency equations for $u$ and $v$ will have to have a tendency\n",
    "\n",
    "$$\n",
    "\\begin{align}\n",
    "\\frac{\\partial u}{\\partial t} & = \\cdots + fv \\\\\n",
    "\\frac{\\partial v}{\\partial t} & = \\cdots - fu\n",
    "\\end{align}\n",
    "$$\n",
    "\n",
    "where $f$ is \"Coriolis parameter\" that proportionally deflects the flow. In order for it to deflect to the right in the northern hemisphere where the latitude $\\phi > 0$, and to the left in the southern hemisphere where $\\phi < 0$, we need $f$ to be a function of $\\phi$ such that\n",
    "\n",
    "$$\n",
    "\\phi > 0 \\iff f(\\phi) > 0  \\\\\n",
    "\\phi < 0 \\iff f(\\phi) < 0 .\n",
    "$$\n",
    "\n",
    "And indeed, the Coriolis parameter is given as \n",
    "\n",
    "$$\n",
    "f = 2 \\Omega \\sin \\phi.\n",
    "$$\n",
    "\n",
    "The term $\\Omega$ is the rotational rate of the Earth, which is \n",
    "\n",
    "$$\n",
    "\\Omega = \\frac{2 \\pi}{24 \\cdot 60 \\cdot 60 \\text{ s}} \\approx 7.27 \\times 10^{-5}.\n",
    "$$\n",
    "\n",
    "Since $\\phi$ is a function of $y$, $f$ is therefore also a function of $y$, and we need to find a way to handle this One method is to assign the Coriolis acceleration using a constant $f = f_0$. Here, we assume a constant rate of rotation to get the $f$-plane Coriolis parameter:\n",
    "\n",
    "$$\n",
    "f_0 = 2 \\Omega \\sin \\phi_0.\n",
    "$$\n",
    "\n",
    "For this approximation, we provide a reference latitude $\\phi_0$. This $f$-plane approximation can be visualized as a cylinder with radius $a \\cos \\phi$ where $a$ is the radius of the Earth. In this visualization, the rotational effect of the Coriolis acceleration would be limited to the outer surface of this cylinder such that no matter what latitude the fluid moves to, it still experiences the exact same Coriolis parameter. A better approximation is to let $f$ vary slightly with $y$, using a first order Taylor series approximation:\n",
    "\n",
    "$$\n",
    "f \\approx f \\big|_{\\phi_0} + \\frac{\\mathrm{d}f}{\\mathrm{d}y} \\big|_{\\phi_0} (\\phi - \\phi_0) = f_0 + 2 \\Omega \\cos \\phi_0 (\\phi - \\phi_0) = f_0 + \\frac{2 \\Omega \\cos \\phi_0}{a} y = f_0 + \\beta y\n",
    "$$\n",
    "\n",
    "This approximation is the \"$\\beta$-plane\" approximation. Whereas the $f$-plane approximation can be visualized by a cylinder that intersects the earth at latitude $\\phi_0$, the $\\beta$-plane approximation can be visualized by an infinitely tall cone that sits tangent to the planet's latitude circle at latitude $\\phi_0$.\n",
    "\n",
    "I mentioned before that we can consider rotation on other planets. We are now prepared to do that. All we would need to do is calculate a new rotation rate $\\Omega$ which is just \n",
    "\n",
    "$$\n",
    "\\Omega = \\frac{2 \\pi}{T}\n",
    "$$\n",
    "\n",
    "where $T$ is how many seconds are in a single rotation, or one day, on that planet. Additionally, for our $\\beta$-plane approximation, we would need to replace the Earth's radius $a$ with the radius of this other planet we might wish to consider. For now, I will stick to a shallow water system on Earth. \n",
    "\n",
    "So now our model becomes\n",
    "\n",
    "$$\n",
    "\\begin{align}\n",
    "\\frac{\\partial \\eta}{\\partial t} & = -\\frac{\\partial (h u^\\prime)}{\\partial x} - \\frac{\\partial (h v^\\prime)}{\\partial y} \\\\\n",
    "\\frac{\\partial u}{\\partial t} & = - g \\frac{\\partial \\eta}{\\partial x}  + fv\\\\\n",
    "\\frac{\\partial v}{\\partial t} & = - g \\frac{\\partial \\eta}{\\partial y} - fu .\n",
    "\\end{align}\n",
    "$$\n",
    "\n",
    "Just like before, we'll discretize this system of equations and update future time steps via\n",
    "\n",
    "$$\n",
    "\\begin{align}\n",
    "\\eta^{n+1}_{i,j}& = \\eta^{n}_{i,j} - \\Delta t \\Big( \\frac{h^n_{i+1,j} u^{n}_{i+1,j} - h^n_{i,j} u^{n}_{i,j} }{\\Delta x} -\\frac{h^n_{i,j+1} v^{n}_{i,j+1} - h^n_{i,j} v^{n}_{i,j}}{\\Delta y} \\Big)  \\\\\n",
    "u^{n+1}_{i,j} & = u^{n}_{i,j} - g \\Delta t \\frac{h^n_{i+1,j} - h^n_{i,j}}{\\Delta x} + f v^{n}_{i,j} \\\\\n",
    "v^{n+1}_{i,j} & = v^{n}_{i,j} - g \\Delta t \\frac{h^n_{i,j+1} - h^n_{i,j}}{\\Delta y} - f u^{n}_{i,j}.\n",
    "\\end{align}\n",
    "$$"
   ]
  },
  {
   "cell_type": "markdown",
   "metadata": {},
   "source": [
    "## Import Modules\n",
    "\n",
    "Import the modules we need, mainly for `numpy` and `matplotlib`. I've also defined some custom functions in `viz_utils.py` that provide plotting utility."
   ]
  },
  {
   "cell_type": "code",
   "execution_count": null,
   "metadata": {},
   "outputs": [],
   "source": [
    "import numpy as np\n",
    "import matplotlib.pyplot as plt\n",
    "from mpl_toolkits.mplot3d import Axes3D\n",
    "from matplotlib import cm\n",
    "from matplotlib import animation\n",
    "import viz_utils"
   ]
  },
  {
   "cell_type": "markdown",
   "metadata": {},
   "source": [
    "## Physical Parameters\n",
    "\n",
    "Now let's set the physical parameters of the model."
   ]
  },
  {
   "cell_type": "code",
   "execution_count": null,
   "metadata": {},
   "outputs": [],
   "source": [
    "# Domain length in x and y directions [m]\n",
    "Lx = 1000000.\n",
    "Ly = 1000000.\n",
    "\n",
    "# Acceleration of gravity [m/s^2]\n",
    "g = 9.81\n",
    "\n",
    "# Average depth of fluid [m]\n",
    "H = 100."
   ]
  },
  {
   "cell_type": "markdown",
   "metadata": {},
   "source": [
    "## Computational Parameters\n",
    "\n",
    "And now for the computational paramters, such as the number of gridpoints and timesteps."
   ]
  },
  {
   "cell_type": "code",
   "execution_count": null,
   "metadata": {},
   "outputs": [],
   "source": [
    "# Number of grid points in x and y directions and time steps\n",
    "nx = 150\n",
    "ny = 150\n",
    "nt = 5000\n",
    "\n",
    "# Grid spacing and time step (defined from CFL criteria)\n",
    "dx = Lx/(nx - 1)\n",
    "dy = Ly/(ny - 1)\n",
    "dt = 0.1*min(dx, dy)/np.sqrt(g*H)\n",
    "\n",
    "# Define grid\n",
    "x = np.linspace(-Lx/2, Lx/2, nx)\n",
    "y = np.linspace(-Ly/2, Ly/2, ny)\n",
    "X, Y = np.meshgrid(x, y)\n",
    "X = np.transpose(X)\n",
    "Y = np.transpose(Y)"
   ]
  },
  {
   "cell_type": "markdown",
   "metadata": {},
   "source": [
    "## Initialize Arrays\n",
    "\n",
    "Set initial arrays to zeros before making calculations."
   ]
  },
  {
   "cell_type": "code",
   "execution_count": null,
   "metadata": {},
   "outputs": [],
   "source": [
    "# Initialize arrays for present (n) and future (n+1)\n",
    "u_present = np.zeros((nx,ny))\n",
    "u_future = np.zeros((nx,ny))\n",
    "v_present = np.zeros((nx,ny))\n",
    "v_future = np.zeros((nx,ny))\n",
    "eta_present = np.zeros((nx,ny))\n",
    "eta_future = np.zeros((nx,ny))\n",
    "\n",
    "# Temporary variables (each time step) for upwind scheme in eta equation\n",
    "h_e = np.zeros((nx,ny))\n",
    "h_w = np.zeros((nx,ny))\n",
    "h_n = np.zeros((nx,ny))\n",
    "h_s = np.zeros((nx,ny))\n",
    "uh_we = np.zeros((nx,ny))\n",
    "vh_ns = np.zeros((nx,ny))"
   ]
  },
  {
   "cell_type": "markdown",
   "metadata": {},
   "source": [
    "## Initial Conditions\n",
    "\n",
    "Now let's specify the initial conditions."
   ]
  },
  {
   "cell_type": "code",
   "execution_count": null,
   "metadata": {},
   "outputs": [],
   "source": [
    "# Initial conditions for u and v\n",
    "u_present[:, :] = 0.0\n",
    "v_present[:, :] = 0.0\n",
    "\n",
    "# Ensure boundary conditions are met\n",
    "u_present[-1, :] = 0.0\n",
    "v_present[:, -1] = 0.0\n",
    "\n",
    "# Set initial disturbance for eta\n",
    "eta_present = np.exp(-((X-250000)**2/(2*(0.05E+6)**2) + (Y-250000)**2/(2*(0.05E+6)**2)))"
   ]
  },
  {
   "cell_type": "markdown",
   "metadata": {},
   "source": [
    "And now we plot the initial conditions."
   ]
  },
  {
   "cell_type": "code",
   "execution_count": null,
   "metadata": {},
   "outputs": [],
   "source": [
    "viz_utils.contour_plots(x,y,u_present,v_present,eta_present+H,0)"
   ]
  },
  {
   "cell_type": "code",
   "execution_count": null,
   "metadata": {},
   "outputs": [],
   "source": [
    "surface_plot(X,Y,H+eta_present,0,H-1,H+1)"
   ]
  },
  {
   "cell_type": "markdown",
   "metadata": {},
   "source": [
    "## Initialize Sampling Lists\n",
    "\n",
    "When we run the model, we'll calculate everything, store values we want to plot, and then go back and plot afterwards. We create those lists and initial values here."
   ]
  },
  {
   "cell_type": "code",
   "execution_count": null,
   "metadata": {},
   "outputs": [],
   "source": [
    "# Set up sampling variables as empty lists\n",
    "eta_list,u_list,v_list = [],[],[]\n",
    "hov_sample, timeseries_sample, time_sample = [],[],[]\n",
    "\n",
    "# Append initial values to list\n",
    "hov_sample.append(eta_present[:, int(ny/2)])\n",
    "timeseries_sample.append(eta_present[int(nx/2), int(ny/2)])\n",
    "time_sample.append(0.0)\n",
    "\n",
    "# Set sampling intervals\n",
    "animation_interval = 20\n",
    "sample_interval = 1000"
   ]
  },
  {
   "cell_type": "markdown",
   "metadata": {},
   "source": [
    "## Intergrate the Model Over All Timesteps\n",
    "\n",
    "And now to integrate the model to predict $u$, $v$, and $h$. We start by updating $u$ and $v$, and then use these values to update $h$. We also enforce the upwind scheme by using the `np.where` function to make sure that we're taking the proper differencing direction based on the flow at that grid point. "
   ]
  },
  {
   "cell_type": "code",
   "execution_count": null,
   "metadata": {
    "tags": []
   },
   "outputs": [],
   "source": [
    "for n in range(nt):\n",
    "\n",
    "    # Update u and v for next timestep\n",
    "    u_future[:-1, :] = u_present[:-1, :] - g*dt/dx*(eta_present[1:, :] - eta_present[:-1, :])\n",
    "    v_future[:, :-1] = v_present[:, :-1] - g*dt/dy*(eta_present[:, 1:] - eta_present[:, :-1])\n",
    "    \n",
    "    # Enforce boundary conditions\n",
    "    v_future[:, -1] = 0.0\n",
    "    u_future[-1, :] = 0.0\n",
    "\n",
    "    # Use upwind scheme needed to update eta for eastward flow\n",
    "    h_e[:-1, :] = np.where(u_future[:-1, :] > 0, eta_present[:-1, :] + H, eta_present[1:, :] + H)\n",
    "    h_e[-1, :] = eta_present[-1, :] + H\n",
    "\n",
    "    # Use upwind scheme needed to update eta for westward flow\n",
    "    h_w[0, :] = eta_present[0, :] + H\n",
    "    h_w[1:, :] = np.where(u_future[:-1, :] > 0, eta_present[:-1, :] + H, eta_present[1:, :] + H)\n",
    "\n",
    "    # Use upwind scheme needed to update eta for northward flow\n",
    "    h_n[:, :-1] = np.where(v_future[:, :-1] > 0, eta_present[:, :-1] + H, eta_present[:, 1:] + H)\n",
    "    h_n[:, -1] = eta_present[:, -1] + H\n",
    "\n",
    "    # Use upwind scheme needed to update eta for southward flow\n",
    "    h_s[:, 0] = eta_present[:, 0] + H\n",
    "    h_s[:, 1:] = np.where(v_future[:, :-1] > 0, eta_present[:, :-1] + H, eta_present[:, 1:] + H)\n",
    "\n",
    "    # Use upwind scheme for quantity u*h\n",
    "    uh_we[0, :] = u_future[0, :]*h_e[0, :]\n",
    "    uh_we[1:, :] = u_future[1:, :]*h_e[1:, :] - u_future[:-1, :]*h_w[1:, :]\n",
    "\n",
    "    # Use upwind scheme for quantity v*h\n",
    "    vh_ns[:, 0] = v_future[:, 0]*h_n[:, 0]\n",
    "    vh_ns[:, 1:] = v_future[:, 1:]*h_n[:, 1:] - v_future[:, :-1]*h_s[:, 1:]\n",
    "\n",
    "    # Update eta for next time step\n",
    "    eta_future[:, :] = eta_present[:, :] - dt*(uh_we[:, :]/dx + vh_ns[:, :]/dy)\n",
    "\n",
    "    # Update to next time step\n",
    "    u_present = np.copy(u_future)\n",
    "    v_present = np.copy(v_future)\n",
    "    eta_present = np.copy(eta_future)\n",
    "\n",
    "    # Samples for Hovmuller diagram and spectrum every sample_interval time step.\n",
    "    if ((n+1) % sample_interval == 0):\n",
    "        hov_sample.append(eta_present[:, int(ny/2)])\n",
    "        timeseries_sample.append(eta_present[int(nx/2), int(ny/2)])\n",
    "        time_sample.append((n+1)*dt)\n",
    "\n",
    "    # Store eta and (u, v) every anin_interval time step for animations.\n",
    "    if ((n+1) % animation_interval == 0):\n",
    "        u_list.append(u_present)\n",
    "        v_list.append(v_present)\n",
    "        eta_list.append(eta_present)"
   ]
  },
  {
   "cell_type": "code",
   "execution_count": null,
   "metadata": {},
   "outputs": [],
   "source": [
    "eta_animation(X,Y,eta_list,dt,\"eta_contour\",sample_interval)"
   ]
  },
  {
   "cell_type": "code",
   "execution_count": null,
   "metadata": {},
   "outputs": [],
   "source": [
    "quiver_animation(X,Y,u_list,v_list,dt,\"flow_vector\",sample_interval,stride=4)"
   ]
  },
  {
   "cell_type": "code",
   "execution_count": null,
   "metadata": {},
   "outputs": [],
   "source": [
    "surface_animation(X,Y,eta_list,H,dt,'h_surf',sample_interval)"
   ]
  }
 ],
 "metadata": {
  "kernelspec": {
   "display_name": "Python 3",
   "language": "python",
   "name": "python3"
  },
  "language_info": {
   "codemirror_mode": {
    "name": "ipython",
    "version": 3
   },
   "file_extension": ".py",
   "mimetype": "text/x-python",
   "name": "python",
   "nbconvert_exporter": "python",
   "pygments_lexer": "ipython3",
   "version": "3.7.6"
  }
 },
 "nbformat": 4,
 "nbformat_minor": 4
}
