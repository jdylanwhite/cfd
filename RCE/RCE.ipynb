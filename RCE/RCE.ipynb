{
 "cells": [
  {
   "cell_type": "markdown",
   "id": "cleared-jewelry",
   "metadata": {},
   "source": [
    "## Single Layer Radiative Convetive Equilibrium\n",
    "\n",
    "For the single layer RCE, we set sole source of energy to be the incoming solar radiation that isn't reflected from albedo,\n",
    "\n",
    "$$ \\frac{S_0}{4}(1-\\alpha) $$\n",
    "\n",
    "equal to the sole energy sink, the energy emitted by the surface of the earth, which by the Stefan-Boltzman law is written\n",
    "\n",
    "$$ \\epsilon_s \\sigma T_s^4 $$\n",
    "\n",
    "to get, solving for T,\n",
    "\n",
    "$$ T = \\big( \\frac{S_0}{4 \\epsilon_s \\sigma}(1-\\alpha)\\big)^{\\frac{1}{4}} .$$\n",
    "\n",
    "Here, $S_0$ is the [solar constant](https://en.wikipedia.org/wiki/Solar_constant), the flux density of solar electromagnetic radiation per unit area, $\\alpha$ is the [earth's surface albedo](https://en.wikipedia.org/wiki/Albedo), $\\epsilon$ is the emissivity of the eath's surface (integrated over the range of wavelengths that the surface of the earth emits, primarily in the longwave infrared), $\\sigma$ is the [Stefan-Boltzman constant](https://en.wikipedia.org/wiki/Stefan%E2%80%93Boltzmann_constant), and $T_s$ is the globally averaged temperature of the earth's surface. The values we'll use for these constants are\n",
    "\n",
    "* $S_0 = 1366$ W m$^2$,\n",
    "* $\\alpha = 0.3$,\n",
    "* $\\epsilon_s = 1$,\n",
    "* $\\sigma = 5.67 \\times 10^{-8}$ W m$^{-2}$ K$^{-4}$."
   ]
  },
  {
   "cell_type": "code",
   "execution_count": 20,
   "id": "marine-palestine",
   "metadata": {},
   "outputs": [
    {
     "name": "stdout",
     "output_type": "stream",
     "text": [
      "Estimated temperature for single layer RCE:\n",
      "\tT_s = 255 K, or -18 degrees C\n"
     ]
    }
   ],
   "source": [
    "# Set constants\n",
    "S0 = 1366\n",
    "alpha = 0.3\n",
    "epsilon_s = 1\n",
    "sigma = 5.67*(10**(-8))\n",
    "\n",
    "# Calculate Ts\n",
    "T_s = ((S0*(1.-alpha))/(4*epsilon_s*sigma))**(1./4.)\n",
    "\n",
    "# Print results\n",
    "print(\"Estimated temperature for single layer RCE:\")\n",
    "print(\"\\tT_s = {0:0.0f} K, or {1:0.0f} degrees C\".format(T_s,T_s-273.15))"
   ]
  },
  {
   "cell_type": "markdown",
   "id": "accepting-barbados",
   "metadata": {},
   "source": [
    "That's far too cold to be the temperature of the earth's surface; all of the water would be completely frozen. For this single layer RCE, we've assumed that energy sources in the very top layer is completely balanced by energy sinks in the bottom layer. This doesn't account for anything happening in the atmosphere between them, so we must conclude that the atmosphere is imposing some other absorbtion impacting the equilibrium."
   ]
  },
  {
   "cell_type": "markdown",
   "id": "extreme-intranet",
   "metadata": {},
   "source": [
    "## Two Layer Radiative Convetive Equilibrium\n",
    "\n",
    "[resource](https://biocycle.atmos.colostate.edu/shiny/2layer/)\n",
    "\n",
    "This time, we'll consider two slab layers of atmosphere that can both absorb and emit energy, interacting with each other, the surface, and the top of the atmosphere.\n",
    "\n",
    "For the uppermost layer, the second layer, the radiative sources\n"
   ]
  },
  {
   "cell_type": "code",
   "execution_count": 49,
   "id": "taken-celebration",
   "metadata": {},
   "outputs": [
    {
     "name": "stdout",
     "output_type": "stream",
     "text": [
      "Estimated temperature for two layer RCE:\n",
      "\tT_s = 335 K, or 62 degrees C\n",
      "\tT_1 = 303 K, or 30 degrees C\n",
      "\tT_2 = 255 K, or -18 degrees C\n"
     ]
    }
   ],
   "source": [
    "# Import needed modules\n",
    "import numpy as np\n",
    "\n",
    "# Set up constants\n",
    "S0 = 1366\n",
    "alpha = 0.3\n",
    "sigma = 5.67*(10**(-8))\n",
    "epsilon_s = 1.0\n",
    "epsilon_1 = 1.0\n",
    "epsilon_2 = 1.0\n",
    "Hs = 0.0\n",
    "Hl = 0.0\n",
    "S = (S0/4.)*(1-alpha)\n",
    "\n",
    "# Set up the matrices to solve the equation\n",
    "A = np.matrix([[-1. , epsilon_1, (1.-epsilon_1)*epsilon_2],\n",
    "               [epsilon_1, -2.*epsilon_1 , epsilon_1*epsilon_2],  \n",
    "               [(1.-epsilon_1)*epsilon_2 , epsilon_1*epsilon_2 , -2.*epsilon_2]])\n",
    "b = np.matrix([(Hs-S)/sigma, (Hl-Hs)/sigma , -Hl/sigma]).T\n",
    "\n",
    "# Solve the equation with numpy linear algebra suite\n",
    "T = np.linalg.solve(A,b)\n",
    "T_s,T_1,T_2 = [T_i[0]**0.25 for T_i in T.tolist()]\n",
    "\n",
    "# Print results\n",
    "print(\"Estimated temperature for two layer RCE:\")\n",
    "print(\"\\tT_s = {0:0.0f} K, or {1:0.0f} degrees C\".format(T_s,T_s-273.15))\n",
    "print(\"\\tT_1 = {0:0.0f} K, or {1:0.0f} degrees C\".format(T_1,T_1-273.15))\n",
    "print(\"\\tT_2 = {0:0.0f} K, or {1:0.0f} degrees C\".format(T_2,T_2-273.15))"
   ]
  }
 ],
 "metadata": {
  "kernelspec": {
   "display_name": "Python 3",
   "language": "python",
   "name": "python3"
  },
  "language_info": {
   "codemirror_mode": {
    "name": "ipython",
    "version": 3
   },
   "file_extension": ".py",
   "mimetype": "text/x-python",
   "name": "python",
   "nbconvert_exporter": "python",
   "pygments_lexer": "ipython3",
   "version": "3.8.5"
  }
 },
 "nbformat": 4,
 "nbformat_minor": 5
}
