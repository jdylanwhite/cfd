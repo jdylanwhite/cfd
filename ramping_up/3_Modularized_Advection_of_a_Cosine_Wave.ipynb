{
 "cells": [
  {
   "cell_type": "markdown",
   "metadata": {},
   "source": [
    "# Modularized Advection of a Cosine Wave\n",
    "\n",
    "Let's revisit the advection of a cosine wave, but this time modularize the different elements of the code we wrote to perform the predicted values of our wave function. Recall our function at $t=0$, our initial condition, is given by\n",
    "\n",
    "$$ \\psi(x,t=0) = \\cos \\Big( \\frac{2 \\pi x}{1000 \\text{ m}} \\Big) .$$\n",
    "\n",
    "Our advection differential equation amidst a constant background flow $u$ is \n",
    "\n",
    "$$ \\displaystyle \\frac{\\partial \\psi}{\\partial t} = - u \\frac{\\partial \\psi}{\\partial x} $$\n",
    "\n",
    "which we use finite differencing, forward in time and backward in space, to get future values of $\\psi$ via \n",
    "\n",
    "$$ \\psi^{(n+1)} = \\psi^{(n)} - u \\Delta t \\frac{\\psi_{i} - \\psi_{i-1}}{\\Delta x} .$$\n",
    "\n",
    "Our boundary condition is a left-periodic condition:\n",
    "\n",
    "$$ \\psi^{(n+1)}_0 = \\psi^{(n+1)}_{n_x-1} .$$\n",
    "\n",
    "Let's now implement the steps to predict future values of $\\psi$ as before, but via modularization. Ultimately, this will help us add more and more parts to the code as we grow the complexity of the model.\n",
    "\n",
    "## Import Modules\n",
    "\n",
    "First, let's import the modules we need."
   ]
  },
  {
   "cell_type": "code",
   "execution_count": null,
   "metadata": {},
   "outputs": [],
   "source": [
    "import numpy as np\n",
    "import matplotlib.pyplot as plt"
   ]
  },
  {
   "cell_type": "markdown",
   "metadata": {},
   "source": [
    "## Create Grids\n",
    "\n",
    "Now we need to create the grid for $x$ and the array of times $t$."
   ]
  },
  {
   "cell_type": "code",
   "execution_count": null,
   "metadata": {},
   "outputs": [],
   "source": [
    "def create_grid(nx,dx,nt,dt):\n",
    "    \n",
    "    '''Create a grid for x and t, each starting at 0, defined by grid spacings and number of grid points'''\n",
    "    \n",
    "    # Generate the arrays\n",
    "    x = np.arange(0,nx*dx,dx)\n",
    "    t = np.arange(0,(nt+1)*dt,dt)\n",
    "    \n",
    "    return x,t"
   ]
  },
  {
   "cell_type": "markdown",
   "metadata": {},
   "source": [
    "## Initial Conditions\n",
    "\n",
    "Next, we establish a function to set the initial condition, $\\psi(x,t=0)$."
   ]
  },
  {
   "cell_type": "code",
   "execution_count": null,
   "metadata": {},
   "outputs": [],
   "source": [
    "def initial_conditions(x,L):\n",
    "    \n",
    "    '''Define the initial conditions for the wave'''\n",
    "    \n",
    "    # Create the initial wave function\n",
    "    psi = np.cos(2.*np.pi*x/L)\n",
    "    \n",
    "    return psi"
   ]
  },
  {
   "cell_type": "markdown",
   "metadata": {},
   "source": [
    "## Copy Wave Functions\n",
    "\n",
    "We also a function to copy one function to another. We do this primarily so that we do not have to store $n_t$ versions of $\\psi$ but instead, only the $(n+1)$th and $n$th copies. "
   ]
  },
  {
   "cell_type": "code",
   "execution_count": null,
   "metadata": {},
   "outputs": [],
   "source": [
    "def copy_functions(psi1):\n",
    "    \n",
    "    '''Copy one function to another'''\n",
    "        \n",
    "    # Copy psi1 to psi2\n",
    "    psi2 = np.copy(psi1)\n",
    "    \n",
    "    return psi2"
   ]
  },
  {
   "cell_type": "markdown",
   "metadata": {},
   "source": [
    "## Advection\n",
    "\n",
    "Now we update the new value of $\\psi$ with the advection function."
   ]
  },
  {
   "cell_type": "code",
   "execution_count": null,
   "metadata": {},
   "outputs": [],
   "source": [
    "def advection(psi_future,psi_present,u,dt,nx,dx):\n",
    "\n",
    "    '''Update the wave function via the advection equation'''\n",
    "\n",
    "    # Update according to advection equation\n",
    "    psi_future[1:nx] = psi_present[1:nx] - (u*dt*(psi_present[1:nx]-psi_present[0:nx-1])/dx)\n",
    "    \n",
    "    return psi_future"
   ]
  },
  {
   "cell_type": "markdown",
   "metadata": {},
   "source": [
    "## Boundary Condition\n",
    "\n",
    "Let's add a boundary condition function now."
   ]
  },
  {
   "cell_type": "code",
   "execution_count": null,
   "metadata": {},
   "outputs": [],
   "source": [
    "def boundary_condition(psi,nx):\n",
    "    \n",
    "    '''Apply a periodic boundary condition'''\n",
    "    \n",
    "    # Apply the periodic boundary condition to the left side\n",
    "    psi[0] = psi[nx-1]\n",
    "    \n",
    "    return psi"
   ]
  },
  {
   "cell_type": "markdown",
   "metadata": {},
   "source": [
    "## Plotting the Function\n",
    "\n",
    "Finally, we can make a function to plot the wave for each time step."
   ]
  },
  {
   "cell_type": "code",
   "execution_count": null,
   "metadata": {},
   "outputs": [],
   "source": [
    "def plot_function(x,psi,time):\n",
    "    \n",
    "    '''Plot the function for time t'''\n",
    "\n",
    "    # Plot function\n",
    "    fig,ax = plt.subplots(figsize=(12,6));\n",
    "    ax.plot(x,psi_future);\n",
    "    ax.set_xlabel(\"$x$\",fontsize=14);\n",
    "    ax.set_ylabel(\"$\\psi$\",fontsize=14);\n",
    "    ax.set_title(f\"t = {t}\",fontsize=18);\n",
    "    ax.set_xlim(min(x),max(x))\n",
    "    \n",
    "def plot_hovmoller(x,t,psi_history):\n",
    "    \n",
    "    '''Plot the function in the x-t space'''\n",
    "    \n",
    "    # Plot a contour plot of the hovmoller\n",
    "    fig,ax = plt.subplots(figsize=(12,6))\n",
    "    contourf = ax.contourf(x,t,np.stack(psi_history,axis=0))\n",
    "    ax.tick_params(right=True, top=True, labelright=True, labeltop=True);\n",
    "    ax.set_xlabel(\"$x$\",fontsize=14);\n",
    "    ax.set_ylabel(\"$t$\",fontsize=14);\n",
    "    ax.set_title(f\"$\\psi$\",fontsize=18);\n",
    "    fig.colorbar(contourf);"
   ]
  },
  {
   "cell_type": "markdown",
   "metadata": {},
   "source": [
    "## Putting It All Together\n",
    "\n",
    "So now, we can call each of these functions in the proper order."
   ]
  },
  {
   "cell_type": "code",
   "execution_count": null,
   "metadata": {},
   "outputs": [],
   "source": [
    "# Define the model parameters\n",
    "nx = 21\n",
    "nt = 10\n",
    "dx = 100.\n",
    "dt = 10.\n",
    "u = 10.\n",
    "L = 1000.\n",
    "\n",
    "# Generate the grid\n",
    "x,t = create_grid(nx,dx,nt,dt)\n",
    "\n",
    "# Set the initial conditions\n",
    "psi_future = initial_conditions(x,L)\n",
    "\n",
    "# Create a list that will store all updates\n",
    "psi_history = [psi_future]\n",
    "\n",
    "# Loop through times and update the wave function\n",
    "for n in range(1,nt+1):\n",
    "    \n",
    "    # Advance n to n+1\n",
    "    psi_present = copy_functions(psi_future)\n",
    "        \n",
    "    # Update with advection\n",
    "    psi_future = advection(psi_future,psi_present,u,dt,nx,dx)\n",
    "    \n",
    "    # Apply boundary conditions\n",
    "    psi_future = boundary_condition(psi_future,nx)\n",
    "        \n",
    "    # Build history of wave values to plot\n",
    "    psi_history.append(np.copy(psi_future))\n",
    "    \n",
    "# Plot the final result\n",
    "plot_hovmoller(x,t,psi_history)"
   ]
  },
  {
   "cell_type": "markdown",
   "metadata": {},
   "source": [
    "## Using a Class Structure\n",
    "\n",
    "More pythonically, we can wrap all of this into a class instead. Let's give that a try."
   ]
  },
  {
   "cell_type": "code",
   "execution_count": null,
   "metadata": {},
   "outputs": [],
   "source": [
    "class Advection_Of_Cosine_Wave:\n",
    "    \n",
    "    def __init__(self,nx,dx,nt,dt,u,L):\n",
    "        self.nx = nx\n",
    "        self.dx = dx\n",
    "        self.nt = nt\n",
    "        self.dt = dt\n",
    "        self.u = u\n",
    "        self.L = L\n",
    "        \n",
    "    def create_grid(self):\n",
    "    \n",
    "        '''Create a grid for x and t, each starting at 0, defined by grid spacings and number of grid points'''\n",
    "\n",
    "        # Generate the arrays\n",
    "        self.x = np.arange(0,self.nx*self.dx,self.dx)\n",
    "        self.t = np.arange(0,(self.nt+1)*self.dt,self.dt)\n",
    "        \n",
    "    def initial_conditions(self):\n",
    "    \n",
    "        '''Define the initial conditions for the wave'''\n",
    "    \n",
    "        # Create the initial wave function\n",
    "        self.psi_future = np.cos(2.*np.pi*self.x/self.L)\n",
    "        \n",
    "    def copy_psi(self):\n",
    "    \n",
    "        '''Advance to the next n and update psi_present'''\n",
    "        \n",
    "        # Copy the functions\n",
    "        self.psi_present = np.copy(self.psi_future)\n",
    "    \n",
    "    def advection(self):\n",
    "\n",
    "        '''Update the wave function via the advection equation'''\n",
    "\n",
    "        # Update according to advection equation\n",
    "        self.psi_future[1:self.nx] = self.psi_present[1:self.nx] - \\\n",
    "                                     (self.u*self.dt*(self.psi_present[1:self.nx]-self.psi_present[0:self.nx-1])/self.dx)\n",
    "        \n",
    "    def boundary_condition(self):\n",
    "    \n",
    "        '''Apply a periodic boundary condition'''\n",
    "    \n",
    "        # Apply the periodic boundary condition to the left side\n",
    "        self.psi_future[0] = self.psi_future[self.nx-1]\n",
    "    \n",
    "    def plot_function(self,n):\n",
    "    \n",
    "        '''Plot the function for time t'''\n",
    "\n",
    "        # Plot function\n",
    "        fig,ax = plt.subplots(figsize=(12,6));\n",
    "        ax.plot(self.x,self.psi_future);\n",
    "        ax.set_xlabel(\"$x$\",fontsize=14);\n",
    "        ax.set_ylabel(\"$\\psi$\",fontsize=14);\n",
    "        ax.set_title(f\"t = {self.t[n]}\",fontsize=18);\n",
    "        ax.set_xlim(min(self.x),max(self.x))\n",
    "    \n",
    "    def plot_hovmoller(self,psi_history):\n",
    "\n",
    "        '''Plot the function in the x-t space'''\n",
    "\n",
    "        fig,ax = plt.subplots(figsize=(12,6))\n",
    "        contourf = ax.contourf(self.x,self.t,np.stack(psi_history,axis=0))\n",
    "        ax.tick_params(right=True, top=True, labelright=True, labeltop=True);\n",
    "        ax.set_xlabel(\"$x$\",fontsize=14);\n",
    "        ax.set_ylabel(\"$t$\",fontsize=14);\n",
    "        ax.set_title(f\"$\\psi$\",fontsize=14);\n",
    "        fig.colorbar(contourf);\n",
    "        \n",
    "    def run_advection_model(self,plot=False,hovmoller=True):\n",
    "    \n",
    "        '''Initiate the functions above and loop through times and update the wave function'''\n",
    "        \n",
    "        # Create the grid and set the initial conditions\n",
    "        wave.create_grid()\n",
    "        wave.initial_conditions()\n",
    "        \n",
    "        # Create the history list for the wave \n",
    "        psi_history = [np.copy(wave.psi_future)]\n",
    "        \n",
    "        # Plot the initial condition\n",
    "        if plot : wave.plot_function(0)\n",
    "\n",
    "        # Loop through times and update the wave function\n",
    "        for n in range(1,nt+1):\n",
    "    \n",
    "            # Advance n to n+1\n",
    "            wave.copy_psi()\n",
    "\n",
    "            # Update with advection\n",
    "            wave.advection()\n",
    "\n",
    "            # Apply boundary conditions\n",
    "            wave.boundary_condition()\n",
    "\n",
    "            # Plot the wave for this time step\n",
    "            if plot : wave.plot_function(n)\n",
    "\n",
    "            # Build history of wave values to plot\n",
    "            psi_history.append(np.copy(wave.psi_future))\n",
    "    \n",
    "        # Plot the hovmoler diagram\n",
    "        if hovmoller : wave.plot_hovmoller(psi_history)"
   ]
  },
  {
   "cell_type": "markdown",
   "metadata": {},
   "source": [
    "And now we need only create an instance of the class with the parameters set and perform the driver function `run_advection_model`."
   ]
  },
  {
   "cell_type": "code",
   "execution_count": null,
   "metadata": {},
   "outputs": [],
   "source": [
    "wave = Advection_Of_Cosine_Wave(nx=21,nt=10,dx=100.,dt=10.,u=10.,L=1000.)\n",
    "wave.run_advection_model()"
   ]
  }
 ],
 "metadata": {
  "kernelspec": {
   "display_name": "Python 3",
   "language": "python",
   "name": "python3"
  },
  "language_info": {
   "codemirror_mode": {
    "name": "ipython",
    "version": 3
   },
   "file_extension": ".py",
   "mimetype": "text/x-python",
   "name": "python",
   "nbconvert_exporter": "python",
   "pygments_lexer": "ipython3",
   "version": "3.7.6"
  }
 },
 "nbformat": 4,
 "nbformat_minor": 4
}