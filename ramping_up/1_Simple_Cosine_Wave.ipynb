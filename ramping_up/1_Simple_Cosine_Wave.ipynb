{
 "cells": [
  {
   "cell_type": "markdown",
   "metadata": {},
   "source": [
    "# Simple Cosine Wave\n",
    "\n",
    "We want to demonstrate some simple dynamics with a cosine wave. We'll slowly build on these concepts to build more complex modeling frameworks. \n",
    "\n",
    "We begin with our simple cosine wave:\n",
    "\n",
    "$$ \\psi = A \\cos (kx - \\omega t) $$\n",
    "\n",
    "Here, $A$ is the amplitude, $k$ is the wavenumber, and $\\omega$ is the frequency. Let's plot the wave function for $A = 1$, $k = 1$, and $\\omega = 0$ to get the time invariant\n",
    "\n",
    "$$ \\psi = \\cos (x) .$$"
   ]
  },
  {
   "cell_type": "code",
   "execution_count": null,
   "metadata": {},
   "outputs": [],
   "source": [
    "# Import modules\n",
    "import numpy as np\n",
    "import matplotlib.pyplot as plt\n",
    "\n",
    "# Set parameters, amplitude A and wavenumber k\n",
    "A = 1\n",
    "k = 1\n",
    "\n",
    "# Set the grid\n",
    "x = np.linspace(-2*np.pi,2*np.pi,100)\n",
    "\n",
    "# Create the function\n",
    "psi = A*np.cos(k*x)\n",
    "\n",
    "# Plot the wave function\n",
    "fig,ax = plt.subplots(figsize=(12,6))\n",
    "ax.plot(x,psi)\n",
    "ax.set_xlabel(\"$x$\",fontsize=14);\n",
    "ax.set_ylabel(\"$\\psi$\",fontsize=14);\n",
    "ax.set_title(\"$\\psi = \\cos (x)$\",fontsize=18);\n",
    "ax.set_xlim(-2*np.pi,2*np.pi);"
   ]
  },
  {
   "cell_type": "markdown",
   "metadata": {},
   "source": [
    "Now let's have a look at changing $A$ and $k$ to see how that changes the structure of the wave."
   ]
  },
  {
   "cell_type": "code",
   "execution_count": null,
   "metadata": {},
   "outputs": [],
   "source": [
    "# Set a list of A and k values\n",
    "A = [0.5,1,2]\n",
    "k = [0.5,1,2]\n",
    "\n",
    "# Create the subplots\n",
    "fig,ax = plt.subplots(3,3,figsize=(20,10))\n",
    "fig.tight_layout(pad=4.0)\n",
    "\n",
    "# Loop through A and k lists\n",
    "for i in range(len(A)):\n",
    "    for j in range(len(k)):\n",
    "        \n",
    "        # Create the function\n",
    "        psi = A[i]*np.cos(k[j]*x)\n",
    "        \n",
    "        # Create the subplots\n",
    "        ax[i,j].plot(x,psi)\n",
    "        ax[i,j].set_xlabel(\"$x$\",fontsize=14);\n",
    "        ax[i,j].set_ylabel(\"$\\psi$\",fontsize=14);\n",
    "        ax[i,j].set_title(f\"$\\psi = {A[i]} \\cos ({k[j]}x)$\",fontsize=18);\n",
    "        ax[i,j].set_xlim(-2*np.pi,2*np.pi);\n",
    "        ax[i,j].set_ylim(-2.25,2.25);"
   ]
  },
  {
   "cell_type": "markdown",
   "metadata": {},
   "source": [
    "The wavenumber $k$ is defined as\n",
    "\n",
    "$$ k = \\frac{2 \\pi}{\\lambda} $$ \n",
    "\n",
    "where $\\lambda$ is the wavelength. Similarly, $\\omega$ is defined as \n",
    "\n",
    "$$ \\omega = \\frac{2 \\pi}{T} $$\n",
    "\n",
    "where $T$ is the period of the wave.\n",
    "\n",
    "Let's see how we would implement this formula into Python and the resulting waves."
   ]
  },
  {
   "cell_type": "code",
   "execution_count": null,
   "metadata": {},
   "outputs": [],
   "source": [
    "# Set A and k values\n",
    "A = 1.\n",
    "wavelength = [1,2,4]\n",
    "\n",
    "# Create new grid\n",
    "x = np.linspace(-4,4,1000)\n",
    "\n",
    "# Create the subplots\n",
    "fig,ax = plt.subplots(1,3,figsize=(20,10))\n",
    "fig.tight_layout(pad=4.0)\n",
    "\n",
    "# Loop through wavelengths\n",
    "for i in range(len(wavelength)):\n",
    "        \n",
    "    # Create the function\n",
    "    k = 2.*np.pi/wavelength[i]\n",
    "    psi = A*np.cos(k*x)\n",
    "\n",
    "    # Create the subplots\n",
    "    ax[i].plot(x,psi)\n",
    "    ax[i].set_xlabel(\"$x$\",fontsize=14);\n",
    "    ax[i].set_ylabel(\"$\\psi$\",fontsize=14);\n",
    "    ax[i].set_title(f\"$\\psi = \\cos (\\\\frac{{2 \\pi x}}{{{wavelength[i]}}})$\",fontsize=18);\n",
    "    ax[i].set_xlim(-4,4);\n",
    "    ax[i].set_ylim(-1.1,1.1);"
   ]
  },
  {
   "cell_type": "markdown",
   "metadata": {},
   "source": [
    "Now let's add in the time component, $\\omega$. First, we'll plot a few different time slices for different values of $\\omega$ but fixed $A$ and $k$."
   ]
  },
  {
   "cell_type": "code",
   "execution_count": null,
   "metadata": {},
   "outputs": [],
   "source": [
    "# Import module\n",
    "import matplotlib\n",
    "\n",
    "# Set parameter values\n",
    "A = 1.\n",
    "k = 1.\n",
    "omega = 1.\n",
    "\n",
    "# Create new grid\n",
    "x = np.linspace(-2*np.pi,2*np.pi,100)\n",
    "\n",
    "# Set a few values for time slices\n",
    "t = np.linspace(0,2.*np.pi,8)\n",
    "\n",
    "# Create the subplots\n",
    "fig,ax = plt.subplots(figsize=(20,10))\n",
    "\n",
    "# Create list of colors\n",
    "cmap = matplotlib.cm.get_cmap('rainbow')\n",
    "colors = cmap(np.linspace(0,1,8))\n",
    "colors = colors[::-1]\n",
    "\n",
    "# Loop through times\n",
    "for i in range(len(t)-1):\n",
    "        \n",
    "    # Create the function\n",
    "    psi = A*np.cos(k*x-omega*t[i])\n",
    "\n",
    "    # Create the subplots\n",
    "    ax.plot(x,psi,color=colors[i],label=f\"$t={round(t[i],2)}$\")\n",
    "    ax.legend(fontsize=14)\n",
    "    ax.set_xlabel(\"$x$\",fontsize=14);\n",
    "    ax.set_ylabel(\"$\\psi$\",fontsize=14);\n",
    "    ax.set_title(f\"$\\psi = \\cos (x - t)$\",fontsize=18);\n",
    "    ax.set_xlim(-2*np.pi,2*np.pi);\n",
    "    ax.set_ylim(-1.1,1.1);"
   ]
  },
  {
   "cell_type": "markdown",
   "metadata": {},
   "source": [
    "So as time increases, the wave propagates towards the right. The wave moves at speed $c$, defined as \n",
    "\n",
    "$$c = \\frac{\\omega}{k}.$$\n",
    "\n",
    "So we can rewrite the equation as \n",
    "\n",
    "$$ \n",
    "\\begin{align} \n",
    "\\psi & = A \\cos (kx - \\omega t) \\\\\n",
    "     & = A \\cos \\big(k(x - \\frac{\\omega}{k}t)\\big) \\\\\n",
    "     & = A \\cos \\big(k(x - ct)\\big)\n",
    "\\end{align} \n",
    "$$\n",
    "\n",
    "Let's have a look at a few examples, with the same wave above, but explicitly setting $c=1,2,3$. "
   ]
  },
  {
   "cell_type": "code",
   "execution_count": null,
   "metadata": {},
   "outputs": [],
   "source": [
    "# Set parameter values\n",
    "A = 1.\n",
    "k = 1.\n",
    "c = [1.,2.,3.]\n",
    "\n",
    "# Create new grid\n",
    "x = np.linspace(-2*np.pi,2*np.pi,100)\n",
    "\n",
    "# Set a few values for time slices\n",
    "t = [0.,0.5]\n",
    "\n",
    "# Create the subplots\n",
    "fig,ax = plt.subplots(1,len(c),figsize=(20,10))\n",
    "\n",
    "# Create list of colors\n",
    "colors = ('r','b')\n",
    "\n",
    "# Loop through times and c list\n",
    "for j in range(len(c)):\n",
    "    for i in range(len(t)):\n",
    "        \n",
    "        # Create the function\n",
    "        psi = A*np.cos(k*(x-c[j]*t[i]))\n",
    "\n",
    "        # Create the subplots\n",
    "        ax[j].plot(x,psi,color=colors[i],label=f\"$t={round(t[i],2)}$\")\n",
    "        ax[j].legend(fontsize=14,loc=\"upper right\")\n",
    "        ax[j].set_xlabel(\"$x$\",fontsize=14);\n",
    "        ax[j].set_ylabel(\"$\\psi$\",fontsize=14);\n",
    "        ax[j].set_title(f\"$\\psi = \\cos (k(x - {c[j]}t))$\",fontsize=18);\n",
    "        ax[j].set_xlim(-2*np.pi,2*np.pi);\n",
    "        ax[j].set_ylim(-1.1,1.1);"
   ]
  },
  {
   "cell_type": "markdown",
   "metadata": {},
   "source": [
    "Rather than looking slices of the wave, we can view the wave in the $x$ and $t$ space. Let's view an example with $A=1$, $k=1$, $c=1$."
   ]
  },
  {
   "cell_type": "code",
   "execution_count": null,
   "metadata": {},
   "outputs": [],
   "source": [
    "# Set parameter values\n",
    "A = 1.\n",
    "k = 1.\n",
    "c = 1.\n",
    "\n",
    "# Create new grid\n",
    "x = np.linspace(-2*np.pi,2*np.pi,100)\n",
    "t = np.linspace(0,2*np.pi,100)\n",
    "x, t = np.meshgrid(x,t)\n",
    "\n",
    "# Create the subplots\n",
    "fig,ax = plt.subplots(figsize=(12,6))\n",
    "    \n",
    "# Create the function\n",
    "psi = A*np.cos(k*(x-c*t))\n",
    "\n",
    "# Create the subplots\n",
    "contourf = ax.contourf(x,t,psi)\n",
    "ax.tick_params(right=True, top=True, labelright=True, labeltop=True);\n",
    "ax.set_xlabel(\"$x$\",fontsize=14);\n",
    "ax.set_ylabel(\"$t$\",fontsize=14);\n",
    "ax.set_title(f\"$\\psi = \\cos (k(x - {c}t))$\",fontsize=18);\n",
    "ax.set_xlim(-2*np.pi,2*np.pi);\n",
    "ax.set_ylim(0,2*np.pi);\n",
    "fig.colorbar(contourf);"
   ]
  },
  {
   "cell_type": "markdown",
   "metadata": {},
   "source": [
    "And now we can see more clearly the rightward propagation of the wave for all times shown in the plot. Let's look at the examples again for $c=1,2,3$."
   ]
  },
  {
   "cell_type": "code",
   "execution_count": null,
   "metadata": {},
   "outputs": [],
   "source": [
    "# Set parameter values\n",
    "A = 1.\n",
    "k = 1.\n",
    "c = [1.,2.,3.]\n",
    "\n",
    "# Create new grid\n",
    "x = np.linspace(-2*np.pi,2*np.pi,100)\n",
    "t = np.linspace(0,2*np.pi,100)\n",
    "x, t = np.meshgrid(x,t)\n",
    "\n",
    "# Create the subplots\n",
    "fig,ax = plt.subplots(1,len(c),figsize=(20,10))\n",
    "        \n",
    "# Loop through all speeds\n",
    "for i in range(len(c)):\n",
    "    \n",
    "    # Create the function\n",
    "    psi = A*np.cos(k*(x-c[i]*t))\n",
    "\n",
    "    # Create the subplots\n",
    "    contourf = ax[i].contourf(x,t,psi)\n",
    "    ax[i].tick_params(right=True, top=True, labelright=True, labeltop=True);\n",
    "    ax[i].set_xlabel(\"$x$\",fontsize=14);\n",
    "    if i == 0 : ax[i].set_ylabel(\"$t$\",fontsize=14);\n",
    "    ax[i].set_title(f\"$\\psi = \\cos (k(x - {c[i]}t))$\",fontsize=18);\n",
    "    ax[i].set_xlim(-2*np.pi,2*np.pi);\n",
    "    ax[i].set_ylim(0,2*np.pi);\n",
    "\n",
    "# Add a single color bar\n",
    "fig.subplots_adjust(right=0.8);\n",
    "cbar_ax = fig.add_axes([0.825, 0.15, 0.02, 0.7]);\n",
    "fig.colorbar(contourf, cax=cbar_ax);"
   ]
  },
  {
   "cell_type": "markdown",
   "metadata": {},
   "source": [
    "And now we can see the waves propagating at different speeds for each of the examples, given by the slopes of the courours in the figure above."
   ]
  }
 ],
 "metadata": {
  "kernelspec": {
   "display_name": "Python 3",
   "language": "python",
   "name": "python3"
  },
  "language_info": {
   "codemirror_mode": {
    "name": "ipython",
    "version": 3
   },
   "file_extension": ".py",
   "mimetype": "text/x-python",
   "name": "python",
   "nbconvert_exporter": "python",
   "pygments_lexer": "ipython3",
   "version": "3.7.6-final"
  }
 },
 "nbformat": 4,
 "nbformat_minor": 4
}